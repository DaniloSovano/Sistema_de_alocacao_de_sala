{
 "cells": [
  {
   "cell_type": "code",
   "execution_count": 21,
   "metadata": {},
   "outputs": [],
   "source": [
    "import pandas as pd\n",
    "from tabulate import tabulate  \n"
   ]
  },
  {
   "cell_type": "code",
   "execution_count": 22,
   "metadata": {},
   "outputs": [],
   "source": [
    "salas = list(range(401, 417))\n",
    "horarios = {\n",
    "    1: \"7:30 - 8:20\", 2: \"8:20 - 09:10\", 3: \"09:20 - 10:10\", \n",
    "    4: \"10:10 - 11:00\", 5: \"11:10 - 12:00\", 6: \"12:00 - 12:50\"\n",
    "}\n",
    "\n",
    "df = pd.DataFrame(\"-\", index=salas, columns=horarios.values()) \n",
    "df.index.name = \"Salas\""
   ]
  },
  {
   "cell_type": "code",
   "execution_count": 23,
   "metadata": {},
   "outputs": [],
   "source": [
    "def listar_salas_livres(horario):\n",
    "    if horario not in df.columns:\n",
    "        print(\"Horário inválido!\")\n",
    "        return []\n",
    "    \n",
    "    salas_livres = df[df[horario] == \"-\"].index.tolist()\n",
    "    print(salas_livres)\n",
    "    if salas_livres:\n",
    "        print(f\"Salas disponíveis para o horário {horario}: {salas_livres}\")\n",
    "    else:\n",
    "        print(f\"Nenhuma sala disponível para o horário {horario}.\")\n",
    "    \n",
    "    return salas_livres"
   ]
  },
  {
   "cell_type": "code",
   "execution_count": 24,
   "metadata": {},
   "outputs": [],
   "source": [
    "def alocar(dia,horario):\n",
    "    print(\"Deseja alocar a sala para quantos horarios?\")\n",
    "    salas_livres = listar_salas_livres(horario)\n",
    "\n",
    "    if not salas_livres:\n",
    "        print(\"Escolha outro horário!\")\n",
    "    else:\n",
    "        try:\n",
    "            sala = int(input(\"Digite o número da sala para alocar permanentemente: \"))\n",
    "            \n",
    "            if sala not in salas_livres:\n",
    "                print(\"Sala inválida ou já ocupada!\")\n",
    "                return\n",
    "            \n",
    "            nome = input(\"Digite o nome do professor: \")\n",
    "            disciplina = input(\"Digite a disciplina a ser ministrada: \")\n",
    "\n",
    "            df.at[sala, horario] = f\"{nome} ({disciplina})\"\n",
    "            print(f\"Sala {sala} alocada no horário {horario} para {nome} ({disciplina})!\")\n",
    "        \n",
    "        except ValueError:\n",
    "            print(\"Entrada inválida! Digite um número válido.\")"
   ]
  },
  {
   "cell_type": "code",
   "execution_count": null,
   "metadata": {},
   "outputs": [],
   "source": [
    "def exibir_horarios(dia):\n",
    "    print(f\"\\nTabela de Alocação de Salas do dia {dia}:\")\n",
    "    print(tabulate(df, headers=\"keys\", tablefmt=\"fancy_grid\", showindex=\"always\"))\n",
    "    print(\"Escolha um horário:\")\n",
    "    \n",
    "def escolha_horario():\n",
    "    try:\n",
    "        escolha_horario = int(input(\"Digite o número do horário desejado: \"))\n",
    "\n",
    "        if escolha_horario in horarios:\n",
    "            alocar(horarios[escolha_horario])\n",
    "        else:\n",
    "            print(\"Opção inválida!\")\n",
    "    except ValueError:\n",
    "        print(\"Entrada inválida! Digite um número válido.\")\n"
   ]
  },
  {
   "cell_type": "code",
   "execution_count": null,
   "metadata": {},
   "outputs": [
    {
     "name": "stdout",
     "output_type": "stream",
     "text": [
      "\n",
      "📌 MENU - GERENCIAMENTO DE SALAS 📌\n",
      "1 - Ver todas as salas\n",
      "2 - Alocar Sala\n",
      "3 - Alterar locação\n",
      "4 - Consultar salas disponíveis em um horário específico\n",
      "5 - Exibir reservas de um professor\n",
      "6 - Exportar reservas para CSV\n",
      "7 - Sair\n"
     ]
    },
    {
     "ename": "TypeError",
     "evalue": "exibir_horarios() missing 1 required positional argument: 'dia'",
     "output_type": "error",
     "traceback": [
      "\u001b[31m---------------------------------------------------------------------------\u001b[39m",
      "\u001b[31mTypeError\u001b[39m                                 Traceback (most recent call last)",
      "\u001b[36mCell\u001b[39m\u001b[36m \u001b[39m\u001b[32mIn[26]\u001b[39m\u001b[32m, line 32\u001b[39m\n\u001b[32m     29\u001b[39m         \u001b[38;5;28;01melse\u001b[39;00m:\n\u001b[32m     30\u001b[39m             \u001b[38;5;28mprint\u001b[39m(\u001b[33m\"\u001b[39m\u001b[33m❌ Opção inválida! Escolha novamente.\u001b[39m\u001b[33m\"\u001b[39m)\n\u001b[32m---> \u001b[39m\u001b[32m32\u001b[39m \u001b[43mmenu\u001b[49m\u001b[43m(\u001b[49m\u001b[43m)\u001b[49m\n",
      "\u001b[36mCell\u001b[39m\u001b[36m \u001b[39m\u001b[32mIn[26]\u001b[39m\u001b[32m, line 15\u001b[39m, in \u001b[36mmenu\u001b[39m\u001b[34m()\u001b[39m\n\u001b[32m     12\u001b[39m opcao = \u001b[38;5;28minput\u001b[39m(\u001b[33m\"\u001b[39m\u001b[38;5;130;01m\\n\u001b[39;00m\u001b[33mEscolha uma opção: \u001b[39m\u001b[33m\"\u001b[39m)\n\u001b[32m     14\u001b[39m \u001b[38;5;28;01mif\u001b[39;00m opcao == \u001b[33m\"\u001b[39m\u001b[33m1\u001b[39m\u001b[33m\"\u001b[39m:\n\u001b[32m---> \u001b[39m\u001b[32m15\u001b[39m     \u001b[43mexibir_horarios\u001b[49m\u001b[43m(\u001b[49m\u001b[43m)\u001b[49m\n\u001b[32m     16\u001b[39m \u001b[38;5;28;01melif\u001b[39;00m opcao == \u001b[33m\"\u001b[39m\u001b[33m2\u001b[39m\u001b[33m\"\u001b[39m:\n\u001b[32m     17\u001b[39m     alocar()\n",
      "\u001b[31mTypeError\u001b[39m: exibir_horarios() missing 1 required positional argument: 'dia'"
     ]
    }
   ],
   "source": [
    "def menu():\n",
    "    while True:\n",
    "        print(\"\\n📌 MENU - GERENCIAMENTO DE SALAS 📌\")\n",
    "        print(\"1 - Ver todas as salas\")\n",
    "        print(\"2 - Alocar Sala\")\n",
    "        print(\"3 - Alterar locação\")\n",
    "        print(\"4 - Consultar salas disponíveis em um horário específico\")\n",
    "        print(\"5 - Exibir reservas de um professor\")\n",
    "        print(\"6 - Exportar reservas para CSV\")\n",
    "        print(\"7 - Sair\")\n",
    "        \n",
    "        opcao = input(\"\\nEscolha uma opção: \")\n",
    "        \n",
    "        if opcao == \"1\":\n",
    "            dia = input(\"Qual dia da semana a ser exibido?\")\n",
    "            print(\"\"\"1 - )\n",
    "\n",
    "            exibir_horarios()\n",
    "        elif opcao == \"2\":\n",
    "            alocar()\n",
    "        elif opcao == \"3\":\n",
    "            alterar_locação()\n",
    "        elif opcao == \"4\":\n",
    "            consultar_salas_disponiveis()\n",
    "        elif opcao == \"5\":\n",
    "            exibir_reservas_por_professor()\n",
    "        elif opcao == \"6\":\n",
    "            exportar_para_csv()\n",
    "        elif opcao == \"7\":\n",
    "            print(\"🚪 Saindo do sistema...\")\n",
    "            break\n",
    "        else:\n",
    "            print(\"❌ Opção inválida! Escolha novamente.\")\n",
    "\n",
    "menu()"
   ]
  },
  {
   "cell_type": "code",
   "execution_count": null,
   "metadata": {},
   "outputs": [],
   "source": [
    "\n"
   ]
  }
 ],
 "metadata": {
  "kernelspec": {
   "display_name": ".venv",
   "language": "python",
   "name": "python3"
  },
  "language_info": {
   "codemirror_mode": {
    "name": "ipython",
    "version": 3
   },
   "file_extension": ".py",
   "mimetype": "text/x-python",
   "name": "python",
   "nbconvert_exporter": "python",
   "pygments_lexer": "ipython3",
   "version": "3.12.9"
  }
 },
 "nbformat": 4,
 "nbformat_minor": 2
}
